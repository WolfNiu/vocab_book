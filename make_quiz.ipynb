{
 "cells": [
  {
   "cell_type": "code",
   "execution_count": 1,
   "metadata": {
    "collapsed": true
   },
   "outputs": [],
   "source": [
    "\"\"\"\n",
    "Used for making a quiz on https://quizizz.com/admin\n",
    "\n",
    "To identify a word:\n",
    "    • First use pattern.en to get all variations\n",
    "    • If no match, use fuzzywuzzy to match a word. Note that for \"meaning\" there may not be a match\n",
    "\n",
    "May need manual inspection:\n",
    "    • See if the wrong word is marked\n",
    "    • (optional) Suppose \"in the mood\" is desired instead of \"mood\" as the blank, then we need to manually change that.\n",
    "    • What if we don't have a sent? For now we can just ignore such cases?\n",
    "\n",
    "Input:\n",
    "    • a list of PIE roots\n",
    "    • percentage of old questions\n",
    "    • time limit of each question\n",
    "    • learned_roots.txt\n",
    "Output:\n",
    "    • fill-in-the-blank questions in .csv\n",
    "    • updated learned_roots.txt\n",
    "\"\"\"\n",
    "import os\n",
    "import random\n",
    "import yaml\n",
    "import xlsxwriter\n",
    "from tqdm import tqdm\n",
    "from pattern import en\n",
    "from argparse import ArgumentParser"
   ]
  },
  {
   "cell_type": "code",
   "execution_count": 2,
   "outputs": [],
   "source": [
    "# TODO: add param \"freq_threshold\" so that any words above it are filtered out\n",
    "# TODO: add iteration over related words\n",
    "# TODO: add cmd_args\n",
    "\n",
    "roots = ['*bheidh-', '*bheid-']\n",
    "\n",
    "# Constants\n",
    "HEADERS = [\n",
    "    'Question Text',\n",
    "    'Question Type',\n",
    "    'Option 1',\n",
    "    'Option 2',\n",
    "    'Time in seconds']\n",
    "SEP = ' ' + '|' * 3 + ' '\n",
    "BLANK = '_' * 5"
   ],
   "metadata": {
    "collapsed": false,
    "pycharm": {
     "name": "#%%\n"
    }
   }
  },
  {
   "cell_type": "code",
   "execution_count": 3,
   "outputs": [],
   "source": [
    "class Workbook:\n",
    "    def __init__(self, file, time=300):\n",
    "        self.file = file\n",
    "        self.time = time\n",
    "\n",
    "        self._row = 0\n",
    "\n",
    "    def write(self, question, answer):\n",
    "        assert isinstance(question, str) and isinstance(answer, str)\n",
    "        self.worksheet.write(self._row, 0, question)\n",
    "        self.worksheet.write(self._row, 1, 'Fill-in-the-Blank')\n",
    "        self.worksheet.write(self._row, 2, answer)\n",
    "        self.worksheet.write(self._row, 4, self.time)\n",
    "        self._row += 1\n",
    "\n",
    "    def close(self):\n",
    "        self.workbook.close()\n",
    "\n",
    "    @property\n",
    "    def worksheet(self):\n",
    "        if not hasattr(self, '_worksheet'):\n",
    "            self._worksheet = self.workbook.add_worksheet()\n",
    "            # Write headers\n",
    "            for col, header in enumerate(HEADERS):\n",
    "                self._worksheet.write(0, col, header)\n",
    "            self._row += 1\n",
    "        return self._worksheet\n",
    "\n",
    "    @property\n",
    "    def workbook(self):\n",
    "        if not hasattr(self, '_workbook'):\n",
    "            self._workbook = xlsxwriter.Workbook(self.file)\n",
    "        return self._workbook"
   ],
   "metadata": {
    "collapsed": false,
    "pycharm": {
     "name": "#%%\n"
    }
   }
  },
  {
   "cell_type": "code",
   "execution_count": 4,
   "outputs": [],
   "source": [
    "class Question:\n",
    "    def __init__(self, word, meaning, subword2root, exp, sent=None):\n",
    "        \"\"\"\n",
    "        :param word:\n",
    "        :param exp:\n",
    "        :param sent: there may not be a sent\n",
    "        :param subword2root: each root_dict is a dict of root --> root_exp\n",
    "        \"\"\"\n",
    "        self.word = word.strip()\n",
    "        self.meaning = meaning.strip()\n",
    "        if sent is None:\n",
    "            self.sent = sent\n",
    "        else:\n",
    "            self.sent = sent.strip()\n",
    "        self.subword2root = subword2root\n",
    "        for subword, root_str in self.subword2root.items():\n",
    "            subword2root[subword] = root_str.strip()\n",
    "        self.exp = exp.strip()\n",
    "\n",
    "        self.answer_strs = []\n",
    "\n",
    "    def get_question_and_answer(self):\n",
    "        question = self._get_question()\n",
    "        answer = self._get_answer()\n",
    "        return question, answer\n",
    "\n",
    "    def _get_question(self):\n",
    "        \"\"\"\n",
    "        Example: word (answer) = blaze\n",
    "        Question:\n",
    "            1. Meaning: When a fire ____, it burns strongly and brightly.\n",
    "            2. Sentence: Three people died as wreckage ____, and rescuers fought to release trapped drivers.\n",
    "            3. Roots: __ = *bhel- | to shine, flash, burn\n",
    "        Answers:\n",
    "            1. blazes\n",
    "            2. blazed\n",
    "            3. bl (<'exp' field which explains the roots, etc...>)\n",
    "        \"\"\"\n",
    "        # question = 'Instruction: please format your answer like \"<blank_1>, <blank_2>, ..., <blank_n>\" with NO extra spaces. Note that when filling the blanks, you need to get the inflections (e.g., tense) right. \\n\\n'\n",
    "        question = ''\n",
    "        if self.sent_with_blank is not None:\n",
    "            question += f'{self.sent_with_blank}{SEP}'\n",
    "        question += f'{self.meaning_with_blank}{SEP}'\n",
    "        question += f'Roots:'\n",
    "        for root_with_blank in self.roots_with_blank:\n",
    "            question += f' [ {root_with_blank} ]'\n",
    "        return question\n",
    "\n",
    "    def _get_answer(self):\n",
    "        answer = ', '.join(self.answer_strs)\n",
    "        # answer += SEP\n",
    "        # answer += f'Explanation: {self.exp}'\n",
    "        return answer\n",
    "\n",
    "    def _get_sent_with_blank(self, sent):\n",
    "        \"\"\"\n",
    "        :param word: any inflection of it could be matched\n",
    "        :param sent: could be either exp or sent\n",
    "        :return:\n",
    "        \"\"\"\n",
    "        variations = []\n",
    "        variations.extend(en.lexeme(self.word)) # include all inflections\n",
    "        variations.append(en.pluralize(self.word))\n",
    "        variations.append(en.singularize(self.word))\n",
    "        variations.sort(key=len, reverse=True) # match with maximal munch\n",
    "        cap_variations = [variation.capitalize() for variation in variations]\n",
    "        variations.extend(cap_variations)\n",
    "        for variation in variations:\n",
    "            if variation in sent:\n",
    "                # 5 b/c the avg. number of characters in an English word is about 4.9\n",
    "                self.answer_strs.append(variation)\n",
    "                sent = sent.replace(variation, BLANK)\n",
    "                return sent\n",
    "        else:\n",
    "            return sent # return sent untouched when there is no match\n",
    "\n",
    "    @property\n",
    "    def roots_with_blank(self):\n",
    "        if not hasattr(self, '_roots_with_blank'):\n",
    "            self._roots_with_blank = [\n",
    "                f'{BLANK}: {root_str}'\n",
    "                for subword, root_str\n",
    "                in self.subword2root.items()\n",
    "            ]\n",
    "            self.answer_strs.extend(list(self.subword2root.keys()))\n",
    "        return self._roots_with_blank\n",
    "\n",
    "    @property\n",
    "    def meaning_with_blank(self):\n",
    "        if not hasattr(self, '_meaning_with_blank'):\n",
    "            self._meaning_with_blank = self._get_sent_with_blank(self.meaning)\n",
    "        return self._meaning_with_blank\n",
    "\n",
    "    @property\n",
    "    def sent_with_blank(self):\n",
    "        if not hasattr(self, '_sent_with_blank'):\n",
    "            if self.sent is None:\n",
    "                self._sent_with_blank = None\n",
    "            else:\n",
    "                self._sent_with_blank = self._get_sent_with_blank(self.sent)\n",
    "        return self._sent_with_blank"
   ],
   "metadata": {
    "collapsed": false,
    "pycharm": {
     "name": "#%%\n"
    }
   }
  },
  {
   "cell_type": "code",
   "execution_count": 5,
   "outputs": [],
   "source": [
    "def parse_args():\n",
    "    parser = ArgumentParser()\n",
    "    parser.add_argument('--')"
   ],
   "metadata": {
    "collapsed": false,
    "pycharm": {
     "name": "#%%\n"
    }
   }
  },
  {
   "cell_type": "code",
   "execution_count": 6,
   "outputs": [
    {
     "name": "stderr",
     "output_type": "stream",
     "text": [
      "100%|██████████| 356/356 [00:00<00:00, 10926.18it/s]\n"
     ]
    },
    {
     "name": "stdout",
     "output_type": "stream",
     "text": [
      "Loaded book.\n"
     ]
    }
   ],
   "source": [
    "if __name__ == '__main__':\n",
    "    with open('book.yml') as fp:\n",
    "        book = yaml.safe_load(fp)\n",
    "        print('Loaded book.')\n",
    "    # Filter entries with the desired PIE roots\n",
    "    entries = [\n",
    "        entry for entry in book\n",
    "        if 'roots' in entry and len(set(entry['roots'].keys()) & set(roots)) != 0]\n",
    "    random.shuffle(entries)\n",
    "\n",
    "    path = 'quiz'\n",
    "    if not os.path.exists(path):\n",
    "        os.makedirs(path)\n",
    "    filename = '_'.join(roots).replace('*', '').replace('-', '') + '.xlsx'\n",
    "    file = os.path.join(path, filename)\n",
    "    workbook = Workbook(file)\n",
    "    for entry in tqdm(book):\n",
    "        for root_str in entry['roots'].values():\n",
    "            root = root_str.split('|')[0].strip()\n",
    "            if root in roots:\n",
    "                break\n",
    "        else:\n",
    "            continue\n",
    "        kwargs = {}\n",
    "        if 'sent' in entry:\n",
    "            kwargs['sent'] = entry['sent']\n",
    "        question_obj = Question(\n",
    "            entry['word'], entry['meaning'], entry['roots'],\n",
    "            entry['exp'], **kwargs)\n",
    "        question, answer = question_obj.get_question_and_answer()\n",
    "        workbook.write(question, answer)\n",
    "\n",
    "    workbook.close()"
   ],
   "metadata": {
    "collapsed": false,
    "pycharm": {
     "name": "#%%\n"
    }
   }
  },
  {
   "cell_type": "code",
   "execution_count": 6,
   "outputs": [],
   "source": [
    "\n"
   ],
   "metadata": {
    "collapsed": false,
    "pycharm": {
     "name": "#%%\n"
    }
   }
  }
 ],
 "metadata": {
  "kernelspec": {
   "display_name": "Python 3",
   "language": "python",
   "name": "python3"
  },
  "language_info": {
   "codemirror_mode": {
    "name": "ipython",
    "version": 2
   },
   "file_extension": ".py",
   "mimetype": "text/x-python",
   "name": "python",
   "nbconvert_exporter": "python",
   "pygments_lexer": "ipython2",
   "version": "2.7.6"
  }
 },
 "nbformat": 4,
 "nbformat_minor": 0
}